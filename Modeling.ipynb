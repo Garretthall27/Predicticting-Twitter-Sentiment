{
 "cells": [
  {
   "cell_type": "markdown",
   "metadata": {},
   "source": [
    "# Modeling"
   ]
  },
  {
   "cell_type": "markdown",
   "metadata": {},
   "source": [
    "## Business Problem"
   ]
  },
  {
   "cell_type": "markdown",
   "metadata": {},
   "source": [
    "South by Southwest wants a predictive model that can predict the sentiment of a tweet as either positive, negative, or neutral. They want to use this model on tweets about their event so they can better gauge what people are looking forward to and what they are upset about. This can help with planning events and advertising.\n",
    "\n",
    "It is important for SXSW this model does not falsely identify tweets as either positive or negative so I will use F1 Score and Accuracy Score as the main metrics for evaluating this model."
   ]
  },
  {
   "cell_type": "code",
   "execution_count": 1,
   "metadata": {},
   "outputs": [],
   "source": [
    "# load libraries\n",
    "import numpy as np\n",
    "import pandas as pd\n",
    "\n",
    "# nltk libraries \n",
    "import nltk\n",
    "nltk.download('stopwords', quiet=True)\n",
    "from nltk.tokenize import regexp_tokenize, word_tokenize, RegexpTokenizer\n",
    "from nltk.corpus import stopwords, wordnet\n",
    "from nltk import pos_tag\n",
    "from nltk.stem import WordNetLemmatizer\n",
    "\n",
    "# sklearn libraries\n",
    "from sklearn.model_selection import train_test_split\n",
    "from sklearn.dummy import DummyClassifier\n",
    "from sklearn.naive_bayes import MultinomialNB\n",
    "from sklearn.linear_model import LogisticRegression\n",
    "from sklearn.tree import DecisionTreeClassifier\n",
    "from sklearn.ensemble import RandomForestClassifier, GradientBoostingClassifier, \\\n",
    "AdaBoostClassifier\n",
    "from sklearn.neighbors import KNeighborsClassifier\n",
    "\n",
    "# sklearn preprocessing\n",
    "from sklearn.preprocessing import StandardScaler, OneHotEncoder, FunctionTransformer\n",
    "from sklearn.compose import ColumnTransformer,  make_column_selector as selector\n",
    "from sklearn.pipeline import Pipeline\n",
    "from sklearn.feature_extraction.text import TfidfVectorizer, CountVectorizer\n",
    "\n",
    "# sklearn metrics and validation\n",
    "from sklearn.model_selection import cross_validate, cross_val_score,\\\n",
    "train_test_split, GridSearchCV\n",
    "from sklearn.metrics import accuracy_score, confusion_matrix, \\\n",
    "f1_score, plot_roc_curve, recall_score, classification_report, \\\n",
    "roc_auc_score, make_scorer, plot_confusion_matrix, precision_score\n",
    "\n",
    "# import xgboost\n",
    "import xgboost"
   ]
  },
  {
   "cell_type": "code",
   "execution_count": 2,
   "metadata": {},
   "outputs": [
    {
     "data": {
      "text/html": [
       "<div>\n",
       "<style scoped>\n",
       "    .dataframe tbody tr th:only-of-type {\n",
       "        vertical-align: middle;\n",
       "    }\n",
       "\n",
       "    .dataframe tbody tr th {\n",
       "        vertical-align: top;\n",
       "    }\n",
       "\n",
       "    .dataframe thead th {\n",
       "        text-align: right;\n",
       "    }\n",
       "</style>\n",
       "<table border=\"1\" class=\"dataframe\">\n",
       "  <thead>\n",
       "    <tr style=\"text-align: right;\">\n",
       "      <th></th>\n",
       "      <th>tweet_text</th>\n",
       "      <th>directed_at</th>\n",
       "      <th>sentiment</th>\n",
       "      <th>company</th>\n",
       "      <th>target</th>\n",
       "      <th>clean_tweet</th>\n",
       "      <th>hashtags</th>\n",
       "      <th>mentions</th>\n",
       "    </tr>\n",
       "  </thead>\n",
       "  <tbody>\n",
       "    <tr>\n",
       "      <th>0</th>\n",
       "      <td>.@wesley83 I have a 3G iPhone. After 3 hrs twe...</td>\n",
       "      <td>iPhone</td>\n",
       "      <td>Negative emotion</td>\n",
       "      <td>Apple</td>\n",
       "      <td>negative</td>\n",
       "      <td>i have a 3g iphone after 3 hrs tweeting at it ...</td>\n",
       "      <td>#rise_austin #sxsw</td>\n",
       "      <td>@wesley83</td>\n",
       "    </tr>\n",
       "    <tr>\n",
       "      <th>1</th>\n",
       "      <td>@jessedee Know about @fludapp ? Awesome iPad/i...</td>\n",
       "      <td>iPad or iPhone App</td>\n",
       "      <td>Positive emotion</td>\n",
       "      <td>Apple</td>\n",
       "      <td>positive</td>\n",
       "      <td>know about awesome ipad iphone app that you'll...</td>\n",
       "      <td>#sxsw</td>\n",
       "      <td>@jessedee @fludapp</td>\n",
       "    </tr>\n",
       "    <tr>\n",
       "      <th>2</th>\n",
       "      <td>@swonderlin Can not wait for #iPad 2 also. The...</td>\n",
       "      <td>iPad</td>\n",
       "      <td>Positive emotion</td>\n",
       "      <td>Apple</td>\n",
       "      <td>positive</td>\n",
       "      <td>can not wait for 2 also they should sale them ...</td>\n",
       "      <td>#ipad #sxsw</td>\n",
       "      <td>@swonderlin</td>\n",
       "    </tr>\n",
       "    <tr>\n",
       "      <th>3</th>\n",
       "      <td>@sxsw I hope this year's festival isn't as cra...</td>\n",
       "      <td>iPad or iPhone App</td>\n",
       "      <td>Negative emotion</td>\n",
       "      <td>Apple</td>\n",
       "      <td>negative</td>\n",
       "      <td>i hope this year's festival isn't as crashy as...</td>\n",
       "      <td>#sxsw</td>\n",
       "      <td>@sxsw</td>\n",
       "    </tr>\n",
       "    <tr>\n",
       "      <th>4</th>\n",
       "      <td>@sxtxstate great stuff on Fri #SXSW: Marissa M...</td>\n",
       "      <td>Google</td>\n",
       "      <td>Positive emotion</td>\n",
       "      <td>Google</td>\n",
       "      <td>positive</td>\n",
       "      <td>great stuff on fri marissa mayer google tim o'...</td>\n",
       "      <td>#sxsw</td>\n",
       "      <td>@sxtxstate</td>\n",
       "    </tr>\n",
       "  </tbody>\n",
       "</table>\n",
       "</div>"
      ],
      "text/plain": [
       "                                          tweet_text         directed_at  \\\n",
       "0  .@wesley83 I have a 3G iPhone. After 3 hrs twe...              iPhone   \n",
       "1  @jessedee Know about @fludapp ? Awesome iPad/i...  iPad or iPhone App   \n",
       "2  @swonderlin Can not wait for #iPad 2 also. The...                iPad   \n",
       "3  @sxsw I hope this year's festival isn't as cra...  iPad or iPhone App   \n",
       "4  @sxtxstate great stuff on Fri #SXSW: Marissa M...              Google   \n",
       "\n",
       "          sentiment company    target  \\\n",
       "0  Negative emotion   Apple  negative   \n",
       "1  Positive emotion   Apple  positive   \n",
       "2  Positive emotion   Apple  positive   \n",
       "3  Negative emotion   Apple  negative   \n",
       "4  Positive emotion  Google  positive   \n",
       "\n",
       "                                         clean_tweet            hashtags  \\\n",
       "0  i have a 3g iphone after 3 hrs tweeting at it ...  #rise_austin #sxsw   \n",
       "1  know about awesome ipad iphone app that you'll...               #sxsw   \n",
       "2  can not wait for 2 also they should sale them ...         #ipad #sxsw   \n",
       "3  i hope this year's festival isn't as crashy as...               #sxsw   \n",
       "4  great stuff on fri marissa mayer google tim o'...               #sxsw   \n",
       "\n",
       "             mentions  \n",
       "0           @wesley83  \n",
       "1  @jessedee @fludapp  \n",
       "2         @swonderlin  \n",
       "3               @sxsw  \n",
       "4          @sxtxstate  "
      ]
     },
     "execution_count": 2,
     "metadata": {},
     "output_type": "execute_result"
    }
   ],
   "source": [
    "# load dataset\n",
    "df = pd.read_csv('./data/tweets_clean.csv', index_col=0)\n",
    "\n",
    "# look at data \n",
    "df.head()"
   ]
  },
  {
   "cell_type": "code",
   "execution_count": 3,
   "metadata": {},
   "outputs": [
    {
     "data": {
      "text/plain": [
       "tweet_text        0\n",
       "directed_at       0\n",
       "sentiment         0\n",
       "company           0\n",
       "target            0\n",
       "clean_tweet       1\n",
       "hashtags          3\n",
       "mentions       3899\n",
       "dtype: int64"
      ]
     },
     "execution_count": 3,
     "metadata": {},
     "output_type": "execute_result"
    }
   ],
   "source": [
    "df.isna().sum()"
   ]
  },
  {
   "cell_type": "code",
   "execution_count": 4,
   "metadata": {},
   "outputs": [],
   "source": [
    "# drop null value from clean_tweet\n",
    "df.dropna(subset=['clean_tweet'], inplace=True)"
   ]
  },
  {
   "cell_type": "markdown",
   "metadata": {},
   "source": [
    "### Helper Function"
   ]
  },
  {
   "cell_type": "code",
   "execution_count": 5,
   "metadata": {},
   "outputs": [],
   "source": [
    "# function for printing out metrics and plots\n",
    "def print_metrics(estimator, X, y):\n",
    "    \n",
    "    # plot confusion matrix\n",
    "    plot_confusion_matrix(estimator,\n",
    "                     X=X,\n",
    "                     y_true=y,\n",
    "                     display_labels=['Negative', 'Neutral', 'Positive'])\n",
    "    \n",
    "    # metrics\n",
    "    y_pred = estimator.predict(X)\n",
    "\n",
    "    print('Accuracy score:', round(accuracy_score(y, y_pred), 3))\n",
    "    print('F1 score:', round(f1_score(y, y_pred, average='weighted'), 3))\n",
    "    print('Precision score:', round(precision_score(y, y_pred, average='weighted'), 3))\n",
    "    print('Recall score:', round(recall_score(y, y_pred, average='weighted'), 3))\n",
    "#     print('ROC AUC score:', round(roc_auc_score(y, estimator.predict_proba(X)[:, 1],average='weighted', multi_class='ovo'), 3))"
   ]
  },
  {
   "cell_type": "code",
   "execution_count": 6,
   "metadata": {},
   "outputs": [],
   "source": [
    "# scoring for cross validation\n",
    "scoring = {'accuracy': make_scorer(accuracy_score),\n",
    "            'f1_score': make_scorer(f1_score,average='weighted')}"
   ]
  },
  {
   "cell_type": "code",
   "execution_count": 7,
   "metadata": {},
   "outputs": [],
   "source": [
    "# function to run cross validation on model\n",
    "def print_cross_validate(estimator, X=None, y=None, kfolds=5):\n",
    "    '''\n",
    "    Perform cross-validation and prints the test and train scores. \n",
    "    '''\n",
    "    # cross validation\n",
    "    cv = cross_validate(estimator,\n",
    "               X=X,\n",
    "               y=y,\n",
    "               cv=kfolds,\n",
    "               scoring=scoring,\n",
    "               return_train_score=True)\n",
    "    \n",
    "    # print scores of cross validation\n",
    "    print(f\"Mean train accuracy score: {round(cv['train_accuracy'].mean(), 3)}\")\n",
    "    print(f\"Mean val accuracy score: {round(cv['test_accuracy'].mean(), 3)}\")\n",
    "    print(f\"Mean train f1 score: {round(cv['train_f1_score'].mean(), 3)}\")\n",
    "    print(f\"Mean val f1 score: {round(cv['test_f1_score'].mean(), 3)}\")"
   ]
  },
  {
   "cell_type": "markdown",
   "metadata": {},
   "source": [
    "### Train Test Split"
   ]
  },
  {
   "cell_type": "code",
   "execution_count": 8,
   "metadata": {},
   "outputs": [],
   "source": [
    "# Set X and y\n",
    "X = df[['clean_tweet','company','directed_at']]\n",
    "\n",
    "# mapping target to -1, 0, 1\n",
    "y = df['target'].map({'negative': -1, 'neutral': 0, 'positive': 1})\n",
    "\n",
    "# train test split\n",
    "X_train, X_test, y_train, y_test = train_test_split(X, y, stratify=y, random_state=42)"
   ]
  },
  {
   "cell_type": "code",
   "execution_count": 9,
   "metadata": {},
   "outputs": [
    {
     "data": {
      "text/html": [
       "<div>\n",
       "<style scoped>\n",
       "    .dataframe tbody tr th:only-of-type {\n",
       "        vertical-align: middle;\n",
       "    }\n",
       "\n",
       "    .dataframe tbody tr th {\n",
       "        vertical-align: top;\n",
       "    }\n",
       "\n",
       "    .dataframe thead th {\n",
       "        text-align: right;\n",
       "    }\n",
       "</style>\n",
       "<table border=\"1\" class=\"dataframe\">\n",
       "  <thead>\n",
       "    <tr style=\"text-align: right;\">\n",
       "      <th></th>\n",
       "      <th>clean_tweet</th>\n",
       "      <th>company</th>\n",
       "      <th>directed_at</th>\n",
       "    </tr>\n",
       "  </thead>\n",
       "  <tbody>\n",
       "    <tr>\n",
       "      <th>5450</th>\n",
       "      <td>rt apple opening temporary ipad 2 store to han...</td>\n",
       "      <td>Unknown</td>\n",
       "      <td>Unknown</td>\n",
       "    </tr>\n",
       "    <tr>\n",
       "      <th>3638</th>\n",
       "      <td>if you're looking for a space to set up meetin...</td>\n",
       "      <td>Unknown</td>\n",
       "      <td>Unknown</td>\n",
       "    </tr>\n",
       "    <tr>\n",
       "      <th>1566</th>\n",
       "      <td>apple to open temporary store friday in the sc...</td>\n",
       "      <td>Unknown</td>\n",
       "      <td>Unknown</td>\n",
       "    </tr>\n",
       "    <tr>\n",
       "      <th>9049</th>\n",
       "      <td>you can buy my used ipad and i'll pick one up ...</td>\n",
       "      <td>Unknown</td>\n",
       "      <td>Unknown</td>\n",
       "    </tr>\n",
       "    <tr>\n",
       "      <th>6322</th>\n",
       "      <td>rt more awesomeness apple is opening up a temp...</td>\n",
       "      <td>Apple</td>\n",
       "      <td>Apple</td>\n",
       "    </tr>\n",
       "  </tbody>\n",
       "</table>\n",
       "</div>"
      ],
      "text/plain": [
       "                                            clean_tweet  company directed_at\n",
       "5450  rt apple opening temporary ipad 2 store to han...  Unknown     Unknown\n",
       "3638  if you're looking for a space to set up meetin...  Unknown     Unknown\n",
       "1566  apple to open temporary store friday in the sc...  Unknown     Unknown\n",
       "9049  you can buy my used ipad and i'll pick one up ...  Unknown     Unknown\n",
       "6322  rt more awesomeness apple is opening up a temp...    Apple       Apple"
      ]
     },
     "execution_count": 9,
     "metadata": {},
     "output_type": "execute_result"
    }
   ],
   "source": [
    "X_train.head()"
   ]
  },
  {
   "cell_type": "markdown",
   "metadata": {},
   "source": [
    "### Preprocessing"
   ]
  },
  {
   "cell_type": "markdown",
   "metadata": {},
   "source": [
    "Setting up stopwords and regex patterns"
   ]
  },
  {
   "cell_type": "code",
   "execution_count": 10,
   "metadata": {},
   "outputs": [],
   "source": [
    "# regex pattern\n",
    "pattern = \"([a-zA-Z0-9]+(?:'[a-z]+)?)\"\n",
    "\n",
    "# stop words\n",
    "stopwords_list = stopwords.words('english')\n",
    "\n",
    "# add to stop words\n",
    "stopwords_list += ['link', 'rt']"
   ]
  },
  {
   "cell_type": "markdown",
   "metadata": {},
   "source": [
    "## Dummy Model Classifier - Baseline"
   ]
  },
  {
   "cell_type": "markdown",
   "metadata": {},
   "source": [
    "I'll first use DummyClassifier to set up my baseline model."
   ]
  },
  {
   "cell_type": "code",
   "execution_count": 11,
   "metadata": {},
   "outputs": [],
   "source": [
    "# preprocess data\n",
    "reg_token = RegexpTokenizer(pattern)\n",
    "\n",
    "# CountVectorizer\n",
    "count_vec = CountVectorizer(stop_words=stopwords_list, max_features=50)\n",
    "\n",
    "# fit transform train\n",
    "X_train_vec = count_vec.fit_transform(X_train['clean_tweet'])\n",
    "X_train_vec = pd.DataFrame.sparse.from_spmatrix(X_train_vec)\n",
    "X_train_vec.columns = sorted(count_vec.vocabulary_)\n",
    "X_train_vec.set_index(y_train.index, inplace=True)"
   ]
  },
  {
   "cell_type": "code",
   "execution_count": 12,
   "metadata": {},
   "outputs": [
    {
     "data": {
      "text/html": [
       "<div>\n",
       "<style scoped>\n",
       "    .dataframe tbody tr th:only-of-type {\n",
       "        vertical-align: middle;\n",
       "    }\n",
       "\n",
       "    .dataframe tbody tr th {\n",
       "        vertical-align: top;\n",
       "    }\n",
       "\n",
       "    .dataframe thead th {\n",
       "        text-align: right;\n",
       "    }\n",
       "</style>\n",
       "<table border=\"1\" class=\"dataframe\">\n",
       "  <thead>\n",
       "    <tr style=\"text-align: right;\">\n",
       "      <th></th>\n",
       "      <th>amp</th>\n",
       "      <th>android</th>\n",
       "      <th>app</th>\n",
       "      <th>apple</th>\n",
       "      <th>apps</th>\n",
       "      <th>austin</th>\n",
       "      <th>called</th>\n",
       "      <th>check</th>\n",
       "      <th>circles</th>\n",
       "      <th>day</th>\n",
       "      <th>...</th>\n",
       "      <th>quot</th>\n",
       "      <th>see</th>\n",
       "      <th>social</th>\n",
       "      <th>store</th>\n",
       "      <th>sxsw</th>\n",
       "      <th>temporary</th>\n",
       "      <th>time</th>\n",
       "      <th>today</th>\n",
       "      <th>via</th>\n",
       "      <th>win</th>\n",
       "    </tr>\n",
       "  </thead>\n",
       "  <tbody>\n",
       "    <tr>\n",
       "      <th>5450</th>\n",
       "      <td>0</td>\n",
       "      <td>0</td>\n",
       "      <td>0</td>\n",
       "      <td>1</td>\n",
       "      <td>0</td>\n",
       "      <td>0</td>\n",
       "      <td>0</td>\n",
       "      <td>0</td>\n",
       "      <td>0</td>\n",
       "      <td>0</td>\n",
       "      <td>...</td>\n",
       "      <td>0</td>\n",
       "      <td>0</td>\n",
       "      <td>0</td>\n",
       "      <td>1</td>\n",
       "      <td>0</td>\n",
       "      <td>1</td>\n",
       "      <td>0</td>\n",
       "      <td>0</td>\n",
       "      <td>0</td>\n",
       "      <td>0</td>\n",
       "    </tr>\n",
       "    <tr>\n",
       "      <th>3638</th>\n",
       "      <td>0</td>\n",
       "      <td>0</td>\n",
       "      <td>0</td>\n",
       "      <td>0</td>\n",
       "      <td>0</td>\n",
       "      <td>0</td>\n",
       "      <td>0</td>\n",
       "      <td>1</td>\n",
       "      <td>0</td>\n",
       "      <td>0</td>\n",
       "      <td>...</td>\n",
       "      <td>0</td>\n",
       "      <td>0</td>\n",
       "      <td>0</td>\n",
       "      <td>0</td>\n",
       "      <td>0</td>\n",
       "      <td>0</td>\n",
       "      <td>0</td>\n",
       "      <td>0</td>\n",
       "      <td>0</td>\n",
       "      <td>0</td>\n",
       "    </tr>\n",
       "    <tr>\n",
       "      <th>1566</th>\n",
       "      <td>0</td>\n",
       "      <td>0</td>\n",
       "      <td>0</td>\n",
       "      <td>1</td>\n",
       "      <td>0</td>\n",
       "      <td>0</td>\n",
       "      <td>0</td>\n",
       "      <td>0</td>\n",
       "      <td>0</td>\n",
       "      <td>0</td>\n",
       "      <td>...</td>\n",
       "      <td>0</td>\n",
       "      <td>0</td>\n",
       "      <td>0</td>\n",
       "      <td>1</td>\n",
       "      <td>0</td>\n",
       "      <td>1</td>\n",
       "      <td>0</td>\n",
       "      <td>0</td>\n",
       "      <td>0</td>\n",
       "      <td>0</td>\n",
       "    </tr>\n",
       "    <tr>\n",
       "      <th>9049</th>\n",
       "      <td>0</td>\n",
       "      <td>0</td>\n",
       "      <td>0</td>\n",
       "      <td>0</td>\n",
       "      <td>0</td>\n",
       "      <td>0</td>\n",
       "      <td>0</td>\n",
       "      <td>0</td>\n",
       "      <td>0</td>\n",
       "      <td>0</td>\n",
       "      <td>...</td>\n",
       "      <td>0</td>\n",
       "      <td>0</td>\n",
       "      <td>0</td>\n",
       "      <td>0</td>\n",
       "      <td>0</td>\n",
       "      <td>0</td>\n",
       "      <td>0</td>\n",
       "      <td>0</td>\n",
       "      <td>0</td>\n",
       "      <td>0</td>\n",
       "    </tr>\n",
       "    <tr>\n",
       "      <th>6322</th>\n",
       "      <td>0</td>\n",
       "      <td>0</td>\n",
       "      <td>0</td>\n",
       "      <td>1</td>\n",
       "      <td>0</td>\n",
       "      <td>1</td>\n",
       "      <td>0</td>\n",
       "      <td>0</td>\n",
       "      <td>0</td>\n",
       "      <td>0</td>\n",
       "      <td>...</td>\n",
       "      <td>0</td>\n",
       "      <td>0</td>\n",
       "      <td>0</td>\n",
       "      <td>1</td>\n",
       "      <td>0</td>\n",
       "      <td>1</td>\n",
       "      <td>0</td>\n",
       "      <td>0</td>\n",
       "      <td>0</td>\n",
       "      <td>0</td>\n",
       "    </tr>\n",
       "    <tr>\n",
       "      <th>...</th>\n",
       "      <td>...</td>\n",
       "      <td>...</td>\n",
       "      <td>...</td>\n",
       "      <td>...</td>\n",
       "      <td>...</td>\n",
       "      <td>...</td>\n",
       "      <td>...</td>\n",
       "      <td>...</td>\n",
       "      <td>...</td>\n",
       "      <td>...</td>\n",
       "      <td>...</td>\n",
       "      <td>...</td>\n",
       "      <td>...</td>\n",
       "      <td>...</td>\n",
       "      <td>...</td>\n",
       "      <td>...</td>\n",
       "      <td>...</td>\n",
       "      <td>...</td>\n",
       "      <td>...</td>\n",
       "      <td>...</td>\n",
       "      <td>...</td>\n",
       "    </tr>\n",
       "    <tr>\n",
       "      <th>7292</th>\n",
       "      <td>0</td>\n",
       "      <td>0</td>\n",
       "      <td>0</td>\n",
       "      <td>0</td>\n",
       "      <td>0</td>\n",
       "      <td>0</td>\n",
       "      <td>0</td>\n",
       "      <td>0</td>\n",
       "      <td>0</td>\n",
       "      <td>0</td>\n",
       "      <td>...</td>\n",
       "      <td>0</td>\n",
       "      <td>0</td>\n",
       "      <td>0</td>\n",
       "      <td>0</td>\n",
       "      <td>0</td>\n",
       "      <td>0</td>\n",
       "      <td>0</td>\n",
       "      <td>0</td>\n",
       "      <td>0</td>\n",
       "      <td>0</td>\n",
       "    </tr>\n",
       "    <tr>\n",
       "      <th>6118</th>\n",
       "      <td>0</td>\n",
       "      <td>0</td>\n",
       "      <td>0</td>\n",
       "      <td>1</td>\n",
       "      <td>0</td>\n",
       "      <td>0</td>\n",
       "      <td>0</td>\n",
       "      <td>0</td>\n",
       "      <td>0</td>\n",
       "      <td>0</td>\n",
       "      <td>...</td>\n",
       "      <td>0</td>\n",
       "      <td>0</td>\n",
       "      <td>0</td>\n",
       "      <td>1</td>\n",
       "      <td>0</td>\n",
       "      <td>0</td>\n",
       "      <td>0</td>\n",
       "      <td>0</td>\n",
       "      <td>0</td>\n",
       "      <td>0</td>\n",
       "    </tr>\n",
       "    <tr>\n",
       "      <th>2568</th>\n",
       "      <td>0</td>\n",
       "      <td>0</td>\n",
       "      <td>0</td>\n",
       "      <td>0</td>\n",
       "      <td>0</td>\n",
       "      <td>0</td>\n",
       "      <td>0</td>\n",
       "      <td>0</td>\n",
       "      <td>0</td>\n",
       "      <td>0</td>\n",
       "      <td>...</td>\n",
       "      <td>0</td>\n",
       "      <td>0</td>\n",
       "      <td>0</td>\n",
       "      <td>0</td>\n",
       "      <td>0</td>\n",
       "      <td>0</td>\n",
       "      <td>0</td>\n",
       "      <td>0</td>\n",
       "      <td>0</td>\n",
       "      <td>0</td>\n",
       "    </tr>\n",
       "    <tr>\n",
       "      <th>2777</th>\n",
       "      <td>0</td>\n",
       "      <td>0</td>\n",
       "      <td>0</td>\n",
       "      <td>0</td>\n",
       "      <td>0</td>\n",
       "      <td>0</td>\n",
       "      <td>0</td>\n",
       "      <td>0</td>\n",
       "      <td>0</td>\n",
       "      <td>0</td>\n",
       "      <td>...</td>\n",
       "      <td>0</td>\n",
       "      <td>0</td>\n",
       "      <td>0</td>\n",
       "      <td>0</td>\n",
       "      <td>0</td>\n",
       "      <td>0</td>\n",
       "      <td>0</td>\n",
       "      <td>0</td>\n",
       "      <td>0</td>\n",
       "      <td>0</td>\n",
       "    </tr>\n",
       "    <tr>\n",
       "      <th>3284</th>\n",
       "      <td>0</td>\n",
       "      <td>0</td>\n",
       "      <td>0</td>\n",
       "      <td>0</td>\n",
       "      <td>0</td>\n",
       "      <td>0</td>\n",
       "      <td>0</td>\n",
       "      <td>0</td>\n",
       "      <td>0</td>\n",
       "      <td>0</td>\n",
       "      <td>...</td>\n",
       "      <td>0</td>\n",
       "      <td>0</td>\n",
       "      <td>0</td>\n",
       "      <td>0</td>\n",
       "      <td>0</td>\n",
       "      <td>0</td>\n",
       "      <td>0</td>\n",
       "      <td>0</td>\n",
       "      <td>0</td>\n",
       "      <td>0</td>\n",
       "    </tr>\n",
       "  </tbody>\n",
       "</table>\n",
       "<p>6341 rows × 50 columns</p>\n",
       "</div>"
      ],
      "text/plain": [
       "      amp  android  app  apple  apps  austin  called  check  circles  day  \\\n",
       "5450    0        0    0      1     0       0       0      0        0    0   \n",
       "3638    0        0    0      0     0       0       0      1        0    0   \n",
       "1566    0        0    0      1     0       0       0      0        0    0   \n",
       "9049    0        0    0      0     0       0       0      0        0    0   \n",
       "6322    0        0    0      1     0       1       0      0        0    0   \n",
       "...   ...      ...  ...    ...   ...     ...     ...    ...      ...  ...   \n",
       "7292    0        0    0      0     0       0       0      0        0    0   \n",
       "6118    0        0    0      1     0       0       0      0        0    0   \n",
       "2568    0        0    0      0     0       0       0      0        0    0   \n",
       "2777    0        0    0      0     0       0       0      0        0    0   \n",
       "3284    0        0    0      0     0       0       0      0        0    0   \n",
       "\n",
       "      ...  quot  see  social  store  sxsw  temporary  time  today  via  win  \n",
       "5450  ...     0    0       0      1     0          1     0      0    0    0  \n",
       "3638  ...     0    0       0      0     0          0     0      0    0    0  \n",
       "1566  ...     0    0       0      1     0          1     0      0    0    0  \n",
       "9049  ...     0    0       0      0     0          0     0      0    0    0  \n",
       "6322  ...     0    0       0      1     0          1     0      0    0    0  \n",
       "...   ...   ...  ...     ...    ...   ...        ...   ...    ...  ...  ...  \n",
       "7292  ...     0    0       0      0     0          0     0      0    0    0  \n",
       "6118  ...     0    0       0      1     0          0     0      0    0    0  \n",
       "2568  ...     0    0       0      0     0          0     0      0    0    0  \n",
       "2777  ...     0    0       0      0     0          0     0      0    0    0  \n",
       "3284  ...     0    0       0      0     0          0     0      0    0    0  \n",
       "\n",
       "[6341 rows x 50 columns]"
      ]
     },
     "execution_count": 12,
     "metadata": {},
     "output_type": "execute_result"
    }
   ],
   "source": [
    "X_train_vec"
   ]
  },
  {
   "cell_type": "code",
   "execution_count": 13,
   "metadata": {},
   "outputs": [
    {
     "name": "stdout",
     "output_type": "stream",
     "text": [
      "Accuracy score: 0.598\n",
      "F1 score: 0.448\n",
      "Precision score: 0.358\n",
      "Recall score: 0.598\n"
     ]
    },
    {
     "name": "stderr",
     "output_type": "stream",
     "text": [
      "C:\\Users\\ghall\\anaconda3\\envs\\learn-env\\lib\\site-packages\\sklearn\\metrics\\_classification.py:1221: UndefinedMetricWarning: Precision is ill-defined and being set to 0.0 in labels with no predicted samples. Use `zero_division` parameter to control this behavior.\n",
      "  _warn_prf(average, modifier, msg_start, len(result))\n"
     ]
    },
    {
     "data": {
      "image/png": "[encoded data removed]",
      "text/plain": [
       "<Figure size 432x288 with 2 Axes>"
      ]
     },
     "metadata": {
      "needs_background": "light"
     },
     "output_type": "display_data"
    }
   ],
   "source": [
    "# dummy model pipeline\n",
    "dum_pipe = Pipeline(steps=[\n",
    "    ('count_vec', count_vec),\n",
    "    ('dum', DummyClassifier(strategy='most_frequent'))\n",
    "])\n",
    "\n",
    "# fit pipeline with X_train\n",
    "dum_pipe.fit(X_train['clean_tweet'], y_train)\n",
    "\n",
    "# print metrics\n",
    "print_metrics(dum_pipe, X_train['clean_tweet'], y_train)"
   ]
  },
  {
   "cell_type": "code",
   "execution_count": 14,
   "metadata": {},
   "outputs": [
    {
     "name": "stdout",
     "output_type": "stream",
     "text": [
      "Mean train accuracy score: 0.598\n",
      "Mean val accuracy score: 0.598\n",
      "Mean train f1 score: 0.448\n",
      "Mean val f1 score: 0.448\n"
     ]
    }
   ],
   "source": [
    "# cross validate metrics\n",
    "print_cross_validate(dum_pipe, X_train['clean_tweet'], y_train)"
   ]
  },
  {
   "cell_type": "markdown",
   "metadata": {},
   "source": [
    "## Testing Multiple Models"
   ]
  },
  {
   "cell_type": "markdown",
   "metadata": {},
   "source": [
    "### TF-IDF Vectorizer"
   ]
  },
  {
   "cell_type": "code",
   "execution_count": 15,
   "metadata": {},
   "outputs": [
    {
     "name": "stdout",
     "output_type": "stream",
     "text": [
      "LogisticRegression()\n",
      "Mean train accuracy score: 0.698\n",
      "Mean val accuracy score: 0.646\n",
      "Mean train f1 score: 0.666\n",
      "Mean val f1 score: 0.61\n",
      "\n",
      "DecisionTreeClassifier(max_depth=5)\n",
      "Mean train accuracy score: 0.63\n",
      "Mean val accuracy score: 0.611\n",
      "Mean train f1 score: 0.549\n",
      "Mean val f1 score: 0.527\n",
      "\n",
      "RandomForestClassifier(max_depth=5)\n",
      "Mean train accuracy score: 0.609\n",
      "Mean val accuracy score: 0.605\n",
      "Mean train f1 score: 0.471\n",
      "Mean val f1 score: 0.464\n",
      "\n",
      "MultinomialNB()\n",
      "Mean train accuracy score: 0.678\n",
      "Mean val accuracy score: 0.639\n",
      "Mean train f1 score: 0.632\n",
      "Mean val f1 score: 0.587\n",
      "\n",
      "GradientBoostingClassifier()\n",
      "Mean train accuracy score: 0.72\n",
      "Mean val accuracy score: 0.651\n",
      "Mean train f1 score: 0.677\n",
      "Mean val f1 score: 0.592\n",
      "\n"
     ]
    }
   ],
   "source": [
    "# tfidf vectorizer\n",
    "tfidf = TfidfVectorizer(stop_words=stopwords_list, max_features=500, ngram_range=(1,3), min_df=5)\n",
    "\n",
    "# list of models\n",
    "models = [\n",
    "    LogisticRegression(),\n",
    "    DecisionTreeClassifier(max_depth=5),\n",
    "    RandomForestClassifier(max_depth=5),\n",
    "    MultinomialNB(),    \n",
    "    GradientBoostingClassifier(n_estimators=100)\n",
    "#     AdaBoostClassifier(),\n",
    "#     xgboost.XGBClassifier(reg_lambda=5.0)\n",
    "]\n",
    "\n",
    "# for loop to run through each model and print cross-val\n",
    "for model in models:\n",
    "    # steps for pipeline\n",
    "    steps = [\n",
    "    ('tfidf', tfidf),\n",
    "    ('model', model)\n",
    "    ]\n",
    "    \n",
    "    #pipeline\n",
    "    pipe = Pipeline(steps)\n",
    "    pipe.fit(X_train['clean_tweet'], y_train)\n",
    "    print(model)\n",
    "    print_cross_validate(pipe, X_train['clean_tweet'], y_train)\n",
    "    print('')"
   ]
  },
  {
   "cell_type": "code",
   "execution_count": 16,
   "metadata": {},
   "outputs": [
    {
     "name": "stdout",
     "output_type": "stream",
     "text": [
      "Mean train accuracy score: 0.746\n",
      "Mean val accuracy score: 0.653\n",
      "Mean train f1 score: 0.715\n",
      "Mean val f1 score: 0.611\n"
     ]
    }
   ],
   "source": [
    "# XGBoost pipeline\n",
    "xg_pipe = Pipeline(steps=[\n",
    "    ('tfidf', tfidf),\n",
    "    ('xgb', xgboost.XGBClassifier(reg_lambda=40))\n",
    "    ])\n",
    "\n",
    "# fit pipeline\n",
    "xg_pipe.fit(X_train['clean_tweet'], y_train)\n",
    "print_cross_validate(xg_pipe, X_train['clean_tweet'], y_train)"
   ]
  },
  {
   "cell_type": "markdown",
   "metadata": {},
   "source": [
    "### Count Vectorizer"
   ]
  },
  {
   "cell_type": "code",
   "execution_count": 17,
   "metadata": {},
   "outputs": [
    {
     "name": "stdout",
     "output_type": "stream",
     "text": [
      "LogisticRegression(max_iter=1000)\n",
      "Mean train accuracy score: 0.713\n",
      "Mean val accuracy score: 0.65\n",
      "Mean train f1 score: 0.692\n",
      "Mean val f1 score: 0.623\n",
      "\n",
      "DecisionTreeClassifier(max_depth=5)\n",
      "Mean train accuracy score: 0.631\n",
      "Mean val accuracy score: 0.621\n",
      "Mean train f1 score: 0.532\n",
      "Mean val f1 score: 0.519\n",
      "\n",
      "RandomForestClassifier(max_depth=5)\n",
      "Mean train accuracy score: 0.607\n",
      "Mean val accuracy score: 0.606\n",
      "Mean train f1 score: 0.468\n",
      "Mean val f1 score: 0.465\n",
      "\n",
      "MultinomialNB()\n",
      "Mean train accuracy score: 0.653\n",
      "Mean val accuracy score: 0.599\n",
      "Mean train f1 score: 0.655\n",
      "Mean val f1 score: 0.6\n",
      "\n",
      "GradientBoostingClassifier()\n",
      "Mean train accuracy score: 0.711\n",
      "Mean val accuracy score: 0.66\n",
      "Mean train f1 score: 0.667\n",
      "Mean val f1 score: 0.605\n",
      "\n"
     ]
    }
   ],
   "source": [
    "# count vectorizer\n",
    "count_vec = CountVectorizer(stop_words=stopwords_list, max_features=500, ngram_range=(1,3), min_df=5)\n",
    "\n",
    "# list of models\n",
    "models = [\n",
    "    LogisticRegression(max_iter=1000),\n",
    "    DecisionTreeClassifier(max_depth=5),\n",
    "    RandomForestClassifier(max_depth=5),\n",
    "    MultinomialNB(),    \n",
    "    GradientBoostingClassifier(n_estimators=100)\n",
    "#     AdaBoostClassifier(),\n",
    "#     xgboost.XGBClassifier(reg_lambda=5.0)\n",
    "]\n",
    "\n",
    "# for loop to run through each model and print cross-val\n",
    "for model in models:\n",
    "    # steps for pipeline\n",
    "    steps = [\n",
    "    ('count_vec', count_vec),\n",
    "    ('model', model)\n",
    "    ]\n",
    "    \n",
    "    #pipeline\n",
    "    pipe = Pipeline(steps)\n",
    "    pipe.fit(X_train['clean_tweet'], y_train)\n",
    "    print(model)\n",
    "    print_cross_validate(pipe, X_train['clean_tweet'], y_train)\n",
    "    print('')"
   ]
  },
  {
   "cell_type": "code",
   "execution_count": 18,
   "metadata": {},
   "outputs": [
    {
     "name": "stdout",
     "output_type": "stream",
     "text": [
      "Mean train accuracy score: 0.718\n",
      "Mean val accuracy score: 0.661\n",
      "Mean train f1 score: 0.681\n",
      "Mean val f1 score: 0.616\n"
     ]
    }
   ],
   "source": [
    "# XGBoost pipeline\n",
    "xg_pipe = Pipeline(steps=[\n",
    "    ('count_vec', count_vec),\n",
    "    ('xgb', xgboost.XGBClassifier(reg_lambda=40))\n",
    "    ])\n",
    "\n",
    "# fit pipeline\n",
    "xg_pipe.fit(X_train['clean_tweet'], y_train)\n",
    "print_cross_validate(xg_pipe, X_train['clean_tweet'], y_train)"
   ]
  },
  {
   "cell_type": "markdown",
   "metadata": {},
   "source": [
    "## Initial Evaluation"
   ]
  },
  {
   "cell_type": "markdown",
   "metadata": {},
   "source": [
    "CountVectorizer and TfIdfVectorizer are performing about the same. Getting validation scores in the high 60% and validation f1 scores in the low 60%. \n",
    "\n",
    "I am going to experiment with the following to see if it makes any improvements to the models:\n",
    "* Add popular words to the stopwords list like apple, ipad, google, quot, store, and more from the EDA notebook.\n",
    "* One hot encode the 'company' and 'directed_at' column.\n",
    "* Use a combination of One Hot Encoder and Vectorizer.\n",
    "\n",
    "Once I finish experimenting with these features I will run a gridsearch on the vectorizer using one of the better performing models. After that I will use the best parameters of the vectorizer and run a grid search on the best performing models to try and tune the hyperparameters to find an optimal model."
   ]
  },
  {
   "cell_type": "markdown",
   "metadata": {},
   "source": [
    "## Adding Additional Stopwords"
   ]
  },
  {
   "cell_type": "markdown",
   "metadata": {},
   "source": [
    "### TF-IDF Vectorizer"
   ]
  },
  {
   "cell_type": "code",
   "execution_count": 19,
   "metadata": {},
   "outputs": [],
   "source": [
    "# adding additional words to stopwords_list\n",
    "new_stopwords_list = stopwords_list\n",
    "new_stopwords_list += ['ipad', 'apple', 'google', 'store', 'iphone', 'quot']"
   ]
  },
  {
   "cell_type": "code",
   "execution_count": 20,
   "metadata": {},
   "outputs": [
    {
     "name": "stdout",
     "output_type": "stream",
     "text": [
      "LogisticRegression(max_iter=1000)\n",
      "Mean train accuracy score: 0.698\n",
      "Mean val accuracy score: 0.642\n",
      "Mean train f1 score: 0.666\n",
      "Mean val f1 score: 0.606\n",
      "\n",
      "DecisionTreeClassifier(max_depth=5)\n",
      "Mean train accuracy score: 0.635\n",
      "Mean val accuracy score: 0.624\n",
      "Mean train f1 score: 0.562\n",
      "Mean val f1 score: 0.549\n",
      "\n",
      "RandomForestClassifier(max_depth=5)\n",
      "Mean train accuracy score: 0.606\n",
      "Mean val accuracy score: 0.605\n",
      "Mean train f1 score: 0.465\n",
      "Mean val f1 score: 0.463\n",
      "\n",
      "MultinomialNB()\n",
      "Mean train accuracy score: 0.682\n",
      "Mean val accuracy score: 0.643\n",
      "Mean train f1 score: 0.639\n",
      "Mean val f1 score: 0.594\n",
      "\n",
      "GradientBoostingClassifier()\n",
      "Mean train accuracy score: 0.716\n",
      "Mean val accuracy score: 0.65\n",
      "Mean train f1 score: 0.673\n",
      "Mean val f1 score: 0.594\n",
      "\n"
     ]
    }
   ],
   "source": [
    "# TfIdf Vectorizer\n",
    "tfidf = TfidfVectorizer(stop_words=new_stopwords_list, max_features=500, ngram_range=(1,3), \n",
    "                        min_df=5)\n",
    "\n",
    "# list of models\n",
    "models = [\n",
    "    LogisticRegression(max_iter=1000),\n",
    "    DecisionTreeClassifier(max_depth=5),\n",
    "    RandomForestClassifier(max_depth=5),\n",
    "    MultinomialNB(),    \n",
    "    GradientBoostingClassifier(n_estimators=100)\n",
    "#     AdaBoostClassifier(),\n",
    "#     xgboost.XGBClassifier(reg_lambda=5.0)\n",
    "]\n",
    "\n",
    "# for loop to run through each model and print cross-val\n",
    "for model in models:\n",
    "    # steps for pipeline\n",
    "    steps = [\n",
    "    ('count_vec', tfidf),\n",
    "    ('model', model)\n",
    "    ]\n",
    "    \n",
    "    #pipeline\n",
    "    pipe = Pipeline(steps)\n",
    "    pipe.fit(X_train['clean_tweet'], y_train)\n",
    "    print(model)\n",
    "    print_cross_validate(pipe, X_train['clean_tweet'], y_train)\n",
    "    print('')"
   ]
  },
  {
   "cell_type": "markdown",
   "metadata": {},
   "source": [
    "### Count Vectorizer"
   ]
  },
  {
   "cell_type": "code",
   "execution_count": 21,
   "metadata": {},
   "outputs": [
    {
     "name": "stdout",
     "output_type": "stream",
     "text": [
      "LogisticRegression(max_iter=1000)\n",
      "Mean train accuracy score: 0.709\n",
      "Mean val accuracy score: 0.647\n",
      "Mean train f1 score: 0.687\n",
      "Mean val f1 score: 0.617\n",
      "\n",
      "DecisionTreeClassifier(max_depth=5)\n",
      "Mean train accuracy score: 0.631\n",
      "Mean val accuracy score: 0.62\n",
      "Mean train f1 score: 0.549\n",
      "Mean val f1 score: 0.536\n",
      "\n",
      "RandomForestClassifier(max_depth=5)\n",
      "Mean train accuracy score: 0.607\n",
      "Mean val accuracy score: 0.605\n",
      "Mean train f1 score: 0.467\n",
      "Mean val f1 score: 0.463\n",
      "\n",
      "MultinomialNB()\n",
      "Mean train accuracy score: 0.663\n",
      "Mean val accuracy score: 0.611\n",
      "Mean train f1 score: 0.66\n",
      "Mean val f1 score: 0.605\n",
      "\n",
      "GradientBoostingClassifier()\n",
      "Mean train accuracy score: 0.709\n",
      "Mean val accuracy score: 0.66\n",
      "Mean train f1 score: 0.665\n",
      "Mean val f1 score: 0.606\n",
      "\n"
     ]
    }
   ],
   "source": [
    "# count vectorizer\n",
    "count_vec = CountVectorizer(stop_words=new_stopwords_list, max_features=500, ngram_range=(1,3), min_df=5)\n",
    "\n",
    "# list of models\n",
    "models = [\n",
    "    LogisticRegression(max_iter=1000),\n",
    "    DecisionTreeClassifier(max_depth=5),\n",
    "    RandomForestClassifier(max_depth=5),\n",
    "    MultinomialNB(),    \n",
    "    GradientBoostingClassifier(n_estimators=100)\n",
    "#     AdaBoostClassifier(),\n",
    "#     xgboost.XGBClassifier(reg_lambda=5.0)\n",
    "]\n",
    "\n",
    "# for loop to run through each model and print cross-val\n",
    "for model in models:\n",
    "    # steps for pipeline\n",
    "    steps = [\n",
    "    ('count_vec', count_vec),\n",
    "    ('model', model)\n",
    "    ]\n",
    "    \n",
    "    #pipeline\n",
    "    pipe = Pipeline(steps)\n",
    "    pipe.fit(X_train['clean_tweet'], y_train)\n",
    "    print(model)\n",
    "    print_cross_validate(pipe, X_train['clean_tweet'], y_train)\n",
    "    print('')"
   ]
  },
  {
   "cell_type": "markdown",
   "metadata": {},
   "source": [
    "The additional stop words did not seem to have any additional benefit to the model."
   ]
  },
  {
   "cell_type": "markdown",
   "metadata": {},
   "source": [
    "## One Hot Encoder 'company'"
   ]
  },
  {
   "cell_type": "code",
   "execution_count": 26,
   "metadata": {},
   "outputs": [],
   "source": [
    "# function to turn series to dataframe\n",
    "def series_to_dataframe(series):\n",
    "    return pd.DataFrame(series)\n",
    "\n",
    "# Function Transformer\n",
    "series_FT = FunctionTransformer(series_to_dataframe)"
   ]
  },
  {
   "cell_type": "code",
   "execution_count": 28,
   "metadata": {},
   "outputs": [],
   "source": [
    "# One hot encoder\n",
    "ohe = OneHotEncoder(handle_unknown='ignore')\n",
    "\n",
    "# pipeline to one hot encode dataframe\n",
    "ohe_pipe = Pipeline(steps=[\n",
    "    ('to_df', series_FT),\n",
    "    ('ohe', ohe),\n",
    "    (\"toarray\", FunctionTransformer(lambda x: x.toarray())),\n",
    "])\n",
    "\n",
    "# company one hot encode\n",
    "X_train_company = ohe_pipe.fit_transform(X_train['company'])\n",
    "X_train_company = pd.DataFrame(X_train_company)"
   ]
  },
  {
   "cell_type": "code",
   "execution_count": 29,
   "metadata": {},
   "outputs": [
    {
     "name": "stdout",
     "output_type": "stream",
     "text": [
      "Accuracy score: 0.889\n",
      "F1 score: 0.859\n",
      "Precision score: 0.831\n",
      "Recall score: 0.889\n",
      "Mean train accuracy score: 0.889\n",
      "Mean val accuracy score: 0.889\n",
      "Mean train f1 score: 0.859\n",
      "Mean val f1 score: 0.859\n"
     ]
    },
    {
     "name": "stderr",
     "output_type": "stream",
     "text": [
      "C:\\Users\\ghall\\anaconda3\\envs\\learn-env\\lib\\site-packages\\sklearn\\metrics\\_classification.py:1221: UndefinedMetricWarning: Precision is ill-defined and being set to 0.0 in labels with no predicted samples. Use `zero_division` parameter to control this behavior.\n",
      "  _warn_prf(average, modifier, msg_start, len(result))\n"
     ]
    },
    {
     "data": {
      "image/png": "[encoded data removed]",
      "text/plain": [
       "<Figure size 432x288 with 2 Axes>"
      ]
     },
     "metadata": {
      "needs_background": "light"
     },
     "output_type": "display_data"
    }
   ],
   "source": [
    "logreg = LogisticRegression()\n",
    "logreg.fit(X_train_company, y_train)\n",
    "print_metrics(logreg, X_train_company, y_train)\n",
    "print_cross_validate(logreg, X_train_company, y_train)"
   ]
  },
  {
   "cell_type": "code",
   "execution_count": 78,
   "metadata": {},
   "outputs": [
    {
     "data": {
      "text/plain": [
       "Unknown    0.630973\n",
       "Apple      0.270304\n",
       "Google     0.098723\n",
       "Name: company, dtype: float64"
      ]
     },
     "execution_count": 78,
     "metadata": {},
     "output_type": "execute_result"
    }
   ],
   "source": [
    "X_train.company.value_counts(normalize=True)"
   ]
  },
  {
   "cell_type": "markdown",
   "metadata": {},
   "source": [
    "### Evaluation"
   ]
  },
  {
   "cell_type": "markdown",
   "metadata": {},
   "source": [
    "Using One Hot Encoder on the 'company' column performed much better than vectorizing the tweets. The logistic regression model achieved validation accuracy and f1 scores of 88.9% and 85.9% respectively. However, from the confusion matrix I can see the model did not predict negative at all on the train data. This is a problem as the model needs to be able to predict all three categories.\n",
    "\n",
    "Next steps:\n",
    "* One Hot Encode the 'directed_at' column and gauge performance.\n",
    "* Train models using tweet vectorization and One Hot Encoder."
   ]
  },
  {
   "cell_type": "markdown",
   "metadata": {},
   "source": [
    "## One Hot Encoder on 'directed_at' column"
   ]
  },
  {
   "cell_type": "code",
   "execution_count": 31,
   "metadata": {},
   "outputs": [
    {
     "data": {
      "text/html": [
       "<div>\n",
       "<style scoped>\n",
       "    .dataframe tbody tr th:only-of-type {\n",
       "        vertical-align: middle;\n",
       "    }\n",
       "\n",
       "    .dataframe tbody tr th {\n",
       "        vertical-align: top;\n",
       "    }\n",
       "\n",
       "    .dataframe thead th {\n",
       "        text-align: right;\n",
       "    }\n",
       "</style>\n",
       "<table border=\"1\" class=\"dataframe\">\n",
       "  <thead>\n",
       "    <tr style=\"text-align: right;\">\n",
       "      <th></th>\n",
       "      <th>0</th>\n",
       "      <th>1</th>\n",
       "      <th>2</th>\n",
       "      <th>3</th>\n",
       "      <th>4</th>\n",
       "      <th>5</th>\n",
       "      <th>6</th>\n",
       "      <th>7</th>\n",
       "      <th>8</th>\n",
       "      <th>9</th>\n",
       "    </tr>\n",
       "  </thead>\n",
       "  <tbody>\n",
       "    <tr>\n",
       "      <th>0</th>\n",
       "      <td>0.0</td>\n",
       "      <td>0.0</td>\n",
       "      <td>0.0</td>\n",
       "      <td>0.0</td>\n",
       "      <td>0.0</td>\n",
       "      <td>0.0</td>\n",
       "      <td>1.0</td>\n",
       "      <td>0.0</td>\n",
       "      <td>0.0</td>\n",
       "      <td>0.0</td>\n",
       "    </tr>\n",
       "    <tr>\n",
       "      <th>1</th>\n",
       "      <td>0.0</td>\n",
       "      <td>0.0</td>\n",
       "      <td>0.0</td>\n",
       "      <td>0.0</td>\n",
       "      <td>0.0</td>\n",
       "      <td>0.0</td>\n",
       "      <td>1.0</td>\n",
       "      <td>0.0</td>\n",
       "      <td>0.0</td>\n",
       "      <td>0.0</td>\n",
       "    </tr>\n",
       "    <tr>\n",
       "      <th>2</th>\n",
       "      <td>0.0</td>\n",
       "      <td>0.0</td>\n",
       "      <td>0.0</td>\n",
       "      <td>0.0</td>\n",
       "      <td>0.0</td>\n",
       "      <td>0.0</td>\n",
       "      <td>1.0</td>\n",
       "      <td>0.0</td>\n",
       "      <td>0.0</td>\n",
       "      <td>0.0</td>\n",
       "    </tr>\n",
       "    <tr>\n",
       "      <th>3</th>\n",
       "      <td>0.0</td>\n",
       "      <td>0.0</td>\n",
       "      <td>0.0</td>\n",
       "      <td>0.0</td>\n",
       "      <td>0.0</td>\n",
       "      <td>0.0</td>\n",
       "      <td>1.0</td>\n",
       "      <td>0.0</td>\n",
       "      <td>0.0</td>\n",
       "      <td>0.0</td>\n",
       "    </tr>\n",
       "    <tr>\n",
       "      <th>4</th>\n",
       "      <td>0.0</td>\n",
       "      <td>0.0</td>\n",
       "      <td>1.0</td>\n",
       "      <td>0.0</td>\n",
       "      <td>0.0</td>\n",
       "      <td>0.0</td>\n",
       "      <td>0.0</td>\n",
       "      <td>0.0</td>\n",
       "      <td>0.0</td>\n",
       "      <td>0.0</td>\n",
       "    </tr>\n",
       "    <tr>\n",
       "      <th>...</th>\n",
       "      <td>...</td>\n",
       "      <td>...</td>\n",
       "      <td>...</td>\n",
       "      <td>...</td>\n",
       "      <td>...</td>\n",
       "      <td>...</td>\n",
       "      <td>...</td>\n",
       "      <td>...</td>\n",
       "      <td>...</td>\n",
       "      <td>...</td>\n",
       "    </tr>\n",
       "    <tr>\n",
       "      <th>6336</th>\n",
       "      <td>0.0</td>\n",
       "      <td>0.0</td>\n",
       "      <td>0.0</td>\n",
       "      <td>0.0</td>\n",
       "      <td>0.0</td>\n",
       "      <td>0.0</td>\n",
       "      <td>1.0</td>\n",
       "      <td>0.0</td>\n",
       "      <td>0.0</td>\n",
       "      <td>0.0</td>\n",
       "    </tr>\n",
       "    <tr>\n",
       "      <th>6337</th>\n",
       "      <td>0.0</td>\n",
       "      <td>0.0</td>\n",
       "      <td>0.0</td>\n",
       "      <td>0.0</td>\n",
       "      <td>0.0</td>\n",
       "      <td>0.0</td>\n",
       "      <td>1.0</td>\n",
       "      <td>0.0</td>\n",
       "      <td>0.0</td>\n",
       "      <td>0.0</td>\n",
       "    </tr>\n",
       "    <tr>\n",
       "      <th>6338</th>\n",
       "      <td>0.0</td>\n",
       "      <td>0.0</td>\n",
       "      <td>0.0</td>\n",
       "      <td>0.0</td>\n",
       "      <td>0.0</td>\n",
       "      <td>0.0</td>\n",
       "      <td>1.0</td>\n",
       "      <td>0.0</td>\n",
       "      <td>0.0</td>\n",
       "      <td>0.0</td>\n",
       "    </tr>\n",
       "    <tr>\n",
       "      <th>6339</th>\n",
       "      <td>0.0</td>\n",
       "      <td>0.0</td>\n",
       "      <td>0.0</td>\n",
       "      <td>0.0</td>\n",
       "      <td>0.0</td>\n",
       "      <td>0.0</td>\n",
       "      <td>1.0</td>\n",
       "      <td>0.0</td>\n",
       "      <td>0.0</td>\n",
       "      <td>0.0</td>\n",
       "    </tr>\n",
       "    <tr>\n",
       "      <th>6340</th>\n",
       "      <td>0.0</td>\n",
       "      <td>0.0</td>\n",
       "      <td>0.0</td>\n",
       "      <td>0.0</td>\n",
       "      <td>0.0</td>\n",
       "      <td>0.0</td>\n",
       "      <td>1.0</td>\n",
       "      <td>0.0</td>\n",
       "      <td>0.0</td>\n",
       "      <td>0.0</td>\n",
       "    </tr>\n",
       "  </tbody>\n",
       "</table>\n",
       "<p>6341 rows × 10 columns</p>\n",
       "</div>"
      ],
      "text/plain": [
       "        0    1    2    3    4    5    6    7    8    9\n",
       "0     0.0  0.0  0.0  0.0  0.0  0.0  1.0  0.0  0.0  0.0\n",
       "1     0.0  0.0  0.0  0.0  0.0  0.0  1.0  0.0  0.0  0.0\n",
       "2     0.0  0.0  0.0  0.0  0.0  0.0  1.0  0.0  0.0  0.0\n",
       "3     0.0  0.0  0.0  0.0  0.0  0.0  1.0  0.0  0.0  0.0\n",
       "4     0.0  0.0  1.0  0.0  0.0  0.0  0.0  0.0  0.0  0.0\n",
       "...   ...  ...  ...  ...  ...  ...  ...  ...  ...  ...\n",
       "6336  0.0  0.0  0.0  0.0  0.0  0.0  1.0  0.0  0.0  0.0\n",
       "6337  0.0  0.0  0.0  0.0  0.0  0.0  1.0  0.0  0.0  0.0\n",
       "6338  0.0  0.0  0.0  0.0  0.0  0.0  1.0  0.0  0.0  0.0\n",
       "6339  0.0  0.0  0.0  0.0  0.0  0.0  1.0  0.0  0.0  0.0\n",
       "6340  0.0  0.0  0.0  0.0  0.0  0.0  1.0  0.0  0.0  0.0\n",
       "\n",
       "[6341 rows x 10 columns]"
      ]
     },
     "execution_count": 31,
     "metadata": {},
     "output_type": "execute_result"
    }
   ],
   "source": [
    "# company one hot encode\n",
    "X_train_product = ohe_pipe.fit_transform(X_train['directed_at'])\n",
    "X_train_product = pd.DataFrame(X_train_product)\n",
    "X_train_product"
   ]
  },
  {
   "cell_type": "code",
   "execution_count": 32,
   "metadata": {},
   "outputs": [
    {
     "data": {
      "text/plain": [
       "Unknown                            4001\n",
       "iPad                                676\n",
       "Apple                               465\n",
       "iPad or iPhone App                  332\n",
       "Google                              300\n",
       "iPhone                              216\n",
       "Other Google product or service     212\n",
       "Android App                          59\n",
       "Android                              55\n",
       "Other Apple product or service       25\n",
       "Name: directed_at, dtype: int64"
      ]
     },
     "execution_count": 32,
     "metadata": {},
     "output_type": "execute_result"
    }
   ],
   "source": [
    "X_train.directed_at.value_counts()"
   ]
  },
  {
   "cell_type": "code",
   "execution_count": 33,
   "metadata": {},
   "outputs": [
    {
     "name": "stdout",
     "output_type": "stream",
     "text": [
      "Accuracy score: 0.889\n",
      "F1 score: 0.859\n",
      "Precision score: 0.831\n",
      "Recall score: 0.889\n"
     ]
    },
    {
     "name": "stderr",
     "output_type": "stream",
     "text": [
      "C:\\Users\\ghall\\anaconda3\\envs\\learn-env\\lib\\site-packages\\sklearn\\metrics\\_classification.py:1221: UndefinedMetricWarning: Precision is ill-defined and being set to 0.0 in labels with no predicted samples. Use `zero_division` parameter to control this behavior.\n",
      "  _warn_prf(average, modifier, msg_start, len(result))\n"
     ]
    },
    {
     "name": "stdout",
     "output_type": "stream",
     "text": [
      "Mean train accuracy score: 0.889\n",
      "Mean val accuracy score: 0.889\n",
      "Mean train f1 score: 0.859\n",
      "Mean val f1 score: 0.859\n"
     ]
    },
    {
     "data": {
      "image/png": "[encoded data removed]",
      "text/plain": [
       "<Figure size 432x288 with 2 Axes>"
      ]
     },
     "metadata": {
      "needs_background": "light"
     },
     "output_type": "display_data"
    }
   ],
   "source": [
    "# instantiate and fit log reg\n",
    "logreg = LogisticRegression()\n",
    "logreg.fit(X_train_product, y_train)\n",
    "\n",
    "# print training and validation\n",
    "print_metrics(logreg, X_train_product, y_train)\n",
    "print_cross_validate(logreg, X_train_product, y_train)"
   ]
  },
  {
   "cell_type": "markdown",
   "metadata": {},
   "source": [
    "The model performed the exact same as the previous. This makes sense because the 'company' column is created from the 'directed_at' column"
   ]
  },
  {
   "cell_type": "markdown",
   "metadata": {},
   "source": [
    "## One Hot Encode and TfIdf Vectorizer"
   ]
  },
  {
   "cell_type": "markdown",
   "metadata": {},
   "source": [
    "### Testing the combination on Logistic Regression"
   ]
  },
  {
   "cell_type": "code",
   "execution_count": 34,
   "metadata": {},
   "outputs": [],
   "source": [
    "# tfidf vectorizer\n",
    "tfidf = TfidfVectorizer(stop_words=stopwords_list, max_features=500, ngram_range=(1,3))\n",
    "# One hot encoder\n",
    "ohe = OneHotEncoder(handle_unknown='ignore')\n",
    "\n",
    "# pipeline to one hot encode dataframe\n",
    "ohe_pipe = Pipeline(steps=[\n",
    "    ('to_df', series_FT),\n",
    "    ('ohe', ohe),\n",
    "    (\"toarray\", FunctionTransformer(lambda x: x.toarray())),\n",
    "])\n",
    "\n",
    "# pipeline for vectorizing\n",
    "vector_pipe = Pipeline(steps=[\n",
    "    (\"squeeze\", FunctionTransformer(lambda x: x.squeeze())),\n",
    "    ('vector', tfidf),\n",
    "    (\"toarray\", FunctionTransformer(lambda x: x.toarray())),\n",
    "])\n",
    "\n",
    "# pipeline for TfIdf and One Hot Encoder\n",
    "CT = ColumnTransformer(transformers=[\n",
    "    ('vector_pipe', vector_pipe, ['clean_tweet']),\n",
    "    ('ohe_pipe', ohe_pipe, ['company'])\n",
    "], remainder='passthrough')\n",
    "\n",
    "# logreg pipeline\n",
    "logreg_pipe = Pipeline(steps=[\n",
    "    ('ct', CT),\n",
    "    ('logreg', LogisticRegression(max_iter=1000))\n",
    "])"
   ]
  },
  {
   "cell_type": "code",
   "execution_count": 35,
   "metadata": {},
   "outputs": [
    {
     "data": {
      "text/plain": [
       "Pipeline(steps=[('ct',\n",
       "                 ColumnTransformer(remainder='passthrough',\n",
       "                                   transformers=[('vector_pipe',\n",
       "                                                  Pipeline(steps=[('squeeze',\n",
       "                                                                   FunctionTransformer(func=<function <lambda> at 0x000001CD787BA160>)),\n",
       "                                                                  ('vector',\n",
       "                                                                   TfidfVectorizer(max_features=500,\n",
       "                                                                                   ngram_range=(1,\n",
       "                                                                                                3),\n",
       "                                                                                   stop_words=['i',\n",
       "                                                                                               'me',\n",
       "                                                                                               'my',\n",
       "                                                                                               'myself',\n",
       "                                                                                               'we',\n",
       "                                                                                               'our',\n",
       "                                                                                               'ours',\n",
       "                                                                                               'ourselves',\n",
       "                                                                                               'you',\n",
       "                                                                                               \"you're\",\n",
       "                                                                                               \"you've\",\n",
       "                                                                                               \"you'll\",\n",
       "                                                                                               \"you'...\n",
       "                                                                   FunctionTransformer(func=<function <lambda> at 0x000001CD0DEFF160>))]),\n",
       "                                                  ['clean_tweet']),\n",
       "                                                 ('ohe_pipe',\n",
       "                                                  Pipeline(steps=[('to_df',\n",
       "                                                                   FunctionTransformer(func=<function series_to_dataframe at 0x000001CD79D0BA60>)),\n",
       "                                                                  ('ohe',\n",
       "                                                                   OneHotEncoder(handle_unknown='ignore')),\n",
       "                                                                  ('toarray',\n",
       "                                                                   FunctionTransformer(func=<function <lambda> at 0x000001CD0DEFF4C0>))]),\n",
       "                                                  ['company'])])),\n",
       "                ('logreg', LogisticRegression(max_iter=1000))])"
      ]
     },
     "execution_count": 35,
     "metadata": {},
     "output_type": "execute_result"
    }
   ],
   "source": [
    "# fit logistic regression pipeline\n",
    "logreg_pipe.fit(X_train[['clean_tweet', 'company']], y_train)"
   ]
  },
  {
   "cell_type": "code",
   "execution_count": 36,
   "metadata": {},
   "outputs": [
    {
     "name": "stdout",
     "output_type": "stream",
     "text": [
      "Accuracy score: 0.902\n",
      "F1 score: 0.888\n",
      "Precision score: 0.9\n",
      "Recall score: 0.902\n"
     ]
    },
    {
     "data": {
      "image/png": "[encoded data removed]",
      "text/plain": [
       "<Figure size 432x288 with 2 Axes>"
      ]
     },
     "metadata": {
      "needs_background": "light"
     },
     "output_type": "display_data"
    }
   ],
   "source": [
    "# print metrics of train data on logistic regression\n",
    "print_metrics(logreg_pipe, X_train[['clean_tweet','company']],y_train)"
   ]
  },
  {
   "cell_type": "code",
   "execution_count": 37,
   "metadata": {
    "scrolled": true
   },
   "outputs": [
    {
     "name": "stdout",
     "output_type": "stream",
     "text": [
      "Mean train accuracy score: 0.901\n",
      "Mean val accuracy score: 0.894\n",
      "Mean train f1 score: 0.886\n",
      "Mean val f1 score: 0.875\n"
     ]
    }
   ],
   "source": [
    "# print cross val for train data on log reg pipeline \n",
    "print_cross_validate(logreg_pipe, X_train[['clean_tweet','company']],y_train)"
   ]
  },
  {
   "cell_type": "markdown",
   "metadata": {},
   "source": [
    "### Running new pipeline on other models"
   ]
  },
  {
   "cell_type": "code",
   "execution_count": 38,
   "metadata": {},
   "outputs": [
    {
     "name": "stdout",
     "output_type": "stream",
     "text": [
      "LogisticRegression(max_iter=1000)\n",
      "Mean train accuracy score: 0.901\n",
      "Mean val accuracy score: 0.894\n",
      "Mean train f1 score: 0.886\n",
      "Mean val f1 score: 0.875\n",
      "\n",
      "DecisionTreeClassifier(max_depth=5)\n",
      "Mean train accuracy score: 0.896\n",
      "Mean val accuracy score: 0.889\n",
      "Mean train f1 score: 0.875\n",
      "Mean val f1 score: 0.865\n",
      "\n",
      "RandomForestClassifier(max_depth=5)\n",
      "Mean train accuracy score: 0.881\n",
      "Mean val accuracy score: 0.878\n",
      "Mean train f1 score: 0.851\n",
      "Mean val f1 score: 0.848\n",
      "\n",
      "MultinomialNB()\n",
      "Mean train accuracy score: 0.894\n",
      "Mean val accuracy score: 0.892\n",
      "Mean train f1 score: 0.873\n",
      "Mean val f1 score: 0.869\n",
      "\n",
      "GradientBoostingClassifier()\n",
      "Mean train accuracy score: 0.904\n",
      "Mean val accuracy score: 0.89\n",
      "Mean train f1 score: 0.89\n",
      "Mean val f1 score: 0.868\n",
      "\n"
     ]
    }
   ],
   "source": [
    "# pipeline for TfIdf and One Hot Encoder\n",
    "CT = ColumnTransformer(transformers=[\n",
    "    ('vector_pipe', vector_pipe, ['clean_tweet']),\n",
    "    ('ohe_pipe', ohe_pipe, ['company'])\n",
    "], remainder='passthrough')\n",
    "\n",
    "# logreg pipeline\n",
    "logreg_pipe = Pipeline(steps=[\n",
    "    ('ct', CT),\n",
    "    ('logreg', LogisticRegression(max_iter=1000))\n",
    "])\n",
    "\n",
    "# list of models\n",
    "models = [\n",
    "    LogisticRegression(max_iter=1000),\n",
    "    DecisionTreeClassifier(max_depth=5),\n",
    "    RandomForestClassifier(max_depth=5),\n",
    "    MultinomialNB(),    \n",
    "    GradientBoostingClassifier(n_estimators=100)\n",
    "#     AdaBoostClassifier(),\n",
    "#     xgboost.XGBClassifier(reg_lambda=5.0)\n",
    "]\n",
    "\n",
    "# for loop to run through each model and print cross-val\n",
    "for model in models:\n",
    "    # steps for pipeline\n",
    "    steps = [\n",
    "    ('ct', CT),\n",
    "    ('model', model)\n",
    "    ]\n",
    "    \n",
    "    #pipeline\n",
    "    pipe = Pipeline(steps)\n",
    "    pipe.fit(X_train[['clean_tweet', 'company']], y_train)\n",
    "    print(model)\n",
    "    print_cross_validate(pipe, X_train[['clean_tweet', 'company']], y_train)\n",
    "    print('')"
   ]
  },
  {
   "cell_type": "markdown",
   "metadata": {},
   "source": [
    "## GridSearch on Vectorizer"
   ]
  },
  {
   "cell_type": "markdown",
   "metadata": {},
   "source": [
    "Logistic Regression has been my best model so far so I am going to use it to GridSearch on the TF-IDF Vectorizer.\n",
    "\n",
    "I will gridsearch the following parameters:\n",
    "1. max_features\n",
    "2. ngram_range\n",
    "3. min_df"
   ]
  },
  {
   "cell_type": "code",
   "execution_count": 46,
   "metadata": {},
   "outputs": [],
   "source": [
    "# setting parameters\n",
    "params = {}\n",
    "\n",
    "params['ct__vector_pipe__vector__max_features'] = [10 , 100, 500, 1000]\n",
    "params['ct__vector_pipe__vector__ngram_range'] = [(1,1), (1,2), (1,3)]\n",
    "params['ct__vector_pipe__vector__min_df'] = [1, 3, 5]"
   ]
  },
  {
   "cell_type": "code",
   "execution_count": 47,
   "metadata": {},
   "outputs": [
    {
     "data": {
      "text/plain": [
       "{'ct__vector_pipe__vector__max_features': [10, 100, 500, 1000],\n",
       " 'ct__vector_pipe__vector__ngram_range': [(1, 1), (1, 2), (1, 3)],\n",
       " 'ct__vector_pipe__vector__min_df': [1, 3, 5]}"
      ]
     },
     "execution_count": 47,
     "metadata": {},
     "output_type": "execute_result"
    }
   ],
   "source": [
    "params"
   ]
  },
  {
   "cell_type": "code",
   "execution_count": 48,
   "metadata": {},
   "outputs": [],
   "source": [
    "# setting final X_train and X_test\n",
    "X_train_final = X_train[['clean_tweet', 'company']]\n",
    "X_test_final = X_test[['clean_tweet', 'company']]"
   ]
  },
  {
   "cell_type": "code",
   "execution_count": 49,
   "metadata": {},
   "outputs": [],
   "source": [
    "# GridSearchCV on Log Reg\n",
    "gs = GridSearchCV(logreg_pipe, params, cv=5, verbose=1, n_jobs=-1)"
   ]
  },
  {
   "cell_type": "code",
   "execution_count": 50,
   "metadata": {
    "scrolled": true
   },
   "outputs": [
    {
     "name": "stdout",
     "output_type": "stream",
     "text": [
      "Fitting 5 folds for each of 36 candidates, totalling 180 fits\n"
     ]
    },
    {
     "name": "stderr",
     "output_type": "stream",
     "text": [
      "[Parallel(n_jobs=-1)]: Using backend LokyBackend with 12 concurrent workers.\n",
      "[Parallel(n_jobs=-1)]: Done  26 tasks      | elapsed:    3.7s\n",
      "[Parallel(n_jobs=-1)]: Done 180 out of 180 | elapsed:   34.6s finished\n"
     ]
    },
    {
     "data": {
      "text/plain": [
       "GridSearchCV(cv=5,\n",
       "             estimator=Pipeline(steps=[('ct',\n",
       "                                        ColumnTransformer(remainder='passthrough',\n",
       "                                                          transformers=[('vector_pipe',\n",
       "                                                                         Pipeline(steps=[('squeeze',\n",
       "                                                                                          FunctionTransformer(func=<function <lambda> at 0x000001CD787BA160>)),\n",
       "                                                                                         ('vector',\n",
       "                                                                                          TfidfVectorizer(max_features=500,\n",
       "                                                                                                          ngram_range=(1,\n",
       "                                                                                                                       3),\n",
       "                                                                                                          stop_words=['i',\n",
       "                                                                                                                      'me',\n",
       "                                                                                                                      'my',\n",
       "                                                                                                                      'myself',\n",
       "                                                                                                                      'we',\n",
       "                                                                                                                      'our',\n",
       "                                                                                                                      'ours',\n",
       "                                                                                                                      'ourselves',\n",
       "                                                                                                                      'you',\n",
       "                                                                                                                      \"you...\n",
       "                                                                                          OneHotEncoder(handle_unknown='ignore')),\n",
       "                                                                                         ('toarray',\n",
       "                                                                                          FunctionTransformer(func=<function <lambda> at 0x000001CD0DEFF4C0>))]),\n",
       "                                                                         ['company'])])),\n",
       "                                       ('logreg',\n",
       "                                        LogisticRegression(max_iter=1000))]),\n",
       "             n_jobs=-1,\n",
       "             param_grid={'ct__vector_pipe__vector__max_features': [10, 100, 500,\n",
       "                                                                   1000],\n",
       "                         'ct__vector_pipe__vector__min_df': [1, 3, 5],\n",
       "                         'ct__vector_pipe__vector__ngram_range': [(1, 1),\n",
       "                                                                  (1, 2),\n",
       "                                                                  (1, 3)]},\n",
       "             verbose=1)"
      ]
     },
     "execution_count": 50,
     "metadata": {},
     "output_type": "execute_result"
    }
   ],
   "source": [
    "# fit GridSearch with train data\n",
    "gs.fit(X_train_final, y_train)"
   ]
  },
  {
   "cell_type": "code",
   "execution_count": 54,
   "metadata": {
    "scrolled": true
   },
   "outputs": [
    {
     "name": "stdout",
     "output_type": "stream",
     "text": [
      "{'ct__vector_pipe__vector__max_features': 1000, 'ct__vector_pipe__vector__min_df': 3, 'ct__vector_pipe__vector__ngram_range': (1, 3)}\n",
      "0.8951270654505772\n"
     ]
    }
   ],
   "source": [
    "# best params\n",
    "print(gs.best_params_)\n",
    "print(gs.best_score_)"
   ]
  },
  {
   "cell_type": "markdown",
   "metadata": {},
   "source": [
    "This estimator is really good. I do want to change the parameters more and change the max features."
   ]
  },
  {
   "cell_type": "code",
   "execution_count": 57,
   "metadata": {},
   "outputs": [],
   "source": [
    "# setting parameters\n",
    "params = {}\n",
    "\n",
    "params['ct__vector_pipe__vector__max_features'] = [500, 1000, 2000, 3000]\n",
    "params['ct__vector_pipe__vector__ngram_range'] = [(1,1), (1,2), (1,3)]\n",
    "params['ct__vector_pipe__vector__min_df'] = [1, 3, 5]"
   ]
  },
  {
   "cell_type": "code",
   "execution_count": 58,
   "metadata": {},
   "outputs": [],
   "source": [
    "# GridSearchCV on Log Reg\n",
    "gs = GridSearchCV(logreg_pipe, params, cv=5, verbose=1, n_jobs=-1)"
   ]
  },
  {
   "cell_type": "code",
   "execution_count": 59,
   "metadata": {},
   "outputs": [
    {
     "name": "stdout",
     "output_type": "stream",
     "text": [
      "Fitting 5 folds for each of 36 candidates, totalling 180 fits\n"
     ]
    },
    {
     "name": "stderr",
     "output_type": "stream",
     "text": [
      "[Parallel(n_jobs=-1)]: Using backend LokyBackend with 12 concurrent workers.\n",
      "[Parallel(n_jobs=-1)]: Done  26 tasks      | elapsed:    7.2s\n",
      "[Parallel(n_jobs=-1)]: Done 180 out of 180 | elapsed:  1.9min finished\n"
     ]
    },
    {
     "data": {
      "text/plain": [
       "GridSearchCV(cv=5,\n",
       "             estimator=Pipeline(steps=[('ct',\n",
       "                                        ColumnTransformer(remainder='passthrough',\n",
       "                                                          transformers=[('vector_pipe',\n",
       "                                                                         Pipeline(steps=[('squeeze',\n",
       "                                                                                          FunctionTransformer(func=<function <lambda> at 0x000001CD787BA160>)),\n",
       "                                                                                         ('vector',\n",
       "                                                                                          TfidfVectorizer(max_features=500,\n",
       "                                                                                                          ngram_range=(1,\n",
       "                                                                                                                       3),\n",
       "                                                                                                          stop_words=['i',\n",
       "                                                                                                                      'me',\n",
       "                                                                                                                      'my',\n",
       "                                                                                                                      'myself',\n",
       "                                                                                                                      'we',\n",
       "                                                                                                                      'our',\n",
       "                                                                                                                      'ours',\n",
       "                                                                                                                      'ourselves',\n",
       "                                                                                                                      'you',\n",
       "                                                                                                                      \"you...\n",
       "                                                                                          OneHotEncoder(handle_unknown='ignore')),\n",
       "                                                                                         ('toarray',\n",
       "                                                                                          FunctionTransformer(func=<function <lambda> at 0x000001CD0DEFF4C0>))]),\n",
       "                                                                         ['company'])])),\n",
       "                                       ('logreg',\n",
       "                                        LogisticRegression(max_iter=1000))]),\n",
       "             n_jobs=-1,\n",
       "             param_grid={'ct__vector_pipe__vector__max_features': [500, 1000,\n",
       "                                                                   2000, 3000],\n",
       "                         'ct__vector_pipe__vector__min_df': [1, 3, 5],\n",
       "                         'ct__vector_pipe__vector__ngram_range': [(1, 1),\n",
       "                                                                  (1, 2),\n",
       "                                                                  (1, 3)]},\n",
       "             verbose=1)"
      ]
     },
     "execution_count": 59,
     "metadata": {},
     "output_type": "execute_result"
    }
   ],
   "source": [
    "# fit GridSearch with train data\n",
    "gs.fit(X_train_final, y_train)"
   ]
  },
  {
   "cell_type": "code",
   "execution_count": 60,
   "metadata": {},
   "outputs": [
    {
     "name": "stdout",
     "output_type": "stream",
     "text": [
      "{'ct__vector_pipe__vector__max_features': 3000, 'ct__vector_pipe__vector__min_df': 3, 'ct__vector_pipe__vector__ngram_range': (1, 2)}\n",
      "0.8959154603962981\n"
     ]
    }
   ],
   "source": [
    "# best params\n",
    "print(gs.best_params_)\n",
    "print(gs.best_score_)"
   ]
  },
  {
   "cell_type": "code",
   "execution_count": 65,
   "metadata": {},
   "outputs": [
    {
     "name": "stdout",
     "output_type": "stream",
     "text": [
      "Accuracy score: 0.908\n",
      "F1 score: 0.897\n",
      "Precision score: 0.911\n",
      "Recall score: 0.908\n",
      "Mean train accuracy score: 0.907\n",
      "Mean val accuracy score: 0.896\n",
      "Mean train f1 score: 0.895\n",
      "Mean val f1 score: 0.877\n"
     ]
    },
    {
     "data": {
      "image/png": "[encoded data removed]",
      "text/plain": [
       "<Figure size 432x288 with 2 Axes>"
      ]
     },
     "metadata": {
      "needs_background": "light"
     },
     "output_type": "display_data"
    }
   ],
   "source": [
    "# print training metrics\n",
    "print_metrics(gs.best_estimator_, X_train_final, y_train)\n",
    "\n",
    "# print cross val scores\n",
    "print_cross_validate(gs.best_estimator_, X_train_final, y_train)"
   ]
  },
  {
   "cell_type": "markdown",
   "metadata": {},
   "source": [
    "This Logistic Regression model is performing really well on training and validation. I am going to use these parameters for TFIDF Vectorizer on the other models to see which one is best."
   ]
  },
  {
   "cell_type": "markdown",
   "metadata": {},
   "source": [
    "## Running models using GridSearched TF-IDF Vectorizer"
   ]
  },
  {
   "cell_type": "code",
   "execution_count": 67,
   "metadata": {},
   "outputs": [
    {
     "name": "stdout",
     "output_type": "stream",
     "text": [
      "LogisticRegression(max_iter=1000)\n",
      "Mean train accuracy score: 0.907\n",
      "Mean val accuracy score: 0.896\n",
      "Mean train f1 score: 0.895\n",
      "Mean val f1 score: 0.877\n",
      "\n",
      "DecisionTreeClassifier(max_depth=5)\n",
      "Mean train accuracy score: 0.897\n",
      "Mean val accuracy score: 0.893\n",
      "Mean train f1 score: 0.876\n",
      "Mean val f1 score: 0.872\n",
      "\n",
      "RandomForestClassifier(max_depth=5)\n",
      "Mean train accuracy score: 0.636\n",
      "Mean val accuracy score: 0.624\n",
      "Mean train f1 score: 0.521\n",
      "Mean val f1 score: 0.501\n",
      "\n",
      "MultinomialNB()\n",
      "Mean train accuracy score: 0.895\n",
      "Mean val accuracy score: 0.893\n",
      "Mean train f1 score: 0.873\n",
      "Mean val f1 score: 0.869\n",
      "\n",
      "GradientBoostingClassifier()\n",
      "Mean train accuracy score: 0.904\n",
      "Mean val accuracy score: 0.894\n",
      "Mean train f1 score: 0.889\n",
      "Mean val f1 score: 0.874\n",
      "\n",
      "AdaBoostClassifier()\n",
      "Mean train accuracy score: 0.888\n",
      "Mean val accuracy score: 0.881\n",
      "Mean train f1 score: 0.877\n",
      "Mean val f1 score: 0.868\n",
      "\n",
      "XGBClassifier(base_score=0.5, booster='gbtree', colsample_bylevel=1,\n",
      "              colsample_bynode=1, colsample_bytree=1, gamma=0, gpu_id=-1,\n",
      "              importance_type='gain', interaction_constraints='',\n",
      "              learning_rate=0.300000012, max_delta_step=0, max_depth=6,\n",
      "              min_child_weight=1, missing=nan, monotone_constraints='()',\n",
      "              n_estimators=100, n_jobs=0, num_parallel_tree=1,\n",
      "              objective='multi:softprob', random_state=0, reg_alpha=0,\n",
      "              reg_lambda=5.0, scale_pos_weight=None, subsample=1,\n",
      "              tree_method='exact', validate_parameters=1, verbosity=None)\n",
      "Mean train accuracy score: 0.916\n",
      "Mean val accuracy score: 0.895\n",
      "Mean train f1 score: 0.908\n",
      "Mean val f1 score: 0.878\n",
      "\n"
     ]
    }
   ],
   "source": [
    "# tfidf vectorizer\n",
    "tfidf = TfidfVectorizer(stop_words=stopwords_list, max_features=3000, ngram_range=(1,2), min_df=3)\n",
    "\n",
    "# pipeline for vectorizing\n",
    "vector_pipe = Pipeline(steps=[\n",
    "    (\"squeeze\", FunctionTransformer(lambda x: x.squeeze())),\n",
    "    ('vector', tfidf),\n",
    "    (\"toarray\", FunctionTransformer(lambda x: x.toarray())),\n",
    "])\n",
    "\n",
    "# pipeline for TfIdf and One Hot Encoder\n",
    "CT = ColumnTransformer(transformers=[\n",
    "    ('vector_pipe', vector_pipe, ['clean_tweet']),\n",
    "    ('ohe_pipe', ohe_pipe, ['company'])\n",
    "], remainder='passthrough')\n",
    "\n",
    "# list of models\n",
    "models = [\n",
    "    LogisticRegression(max_iter=1000),\n",
    "    DecisionTreeClassifier(max_depth=5),\n",
    "    RandomForestClassifier(max_depth=5),\n",
    "    MultinomialNB(),    \n",
    "    GradientBoostingClassifier(n_estimators=100),\n",
    "    AdaBoostClassifier(),\n",
    "    xgboost.XGBClassifier(reg_lambda=5.0)\n",
    "]\n",
    "\n",
    "# for loop to run through each model and print cross-val\n",
    "for model in models:\n",
    "    # steps for pipeline\n",
    "    steps = [\n",
    "    ('ct', CT),\n",
    "    ('model', model)\n",
    "    ]\n",
    "    \n",
    "    #pipeline\n",
    "    pipe = Pipeline(steps)\n",
    "    pipe.fit(X_train[['clean_tweet', 'company']], y_train)\n",
    "    print(model)\n",
    "    print_cross_validate(pipe, X_train[['clean_tweet', 'company']], y_train)\n",
    "    print('')"
   ]
  },
  {
   "cell_type": "markdown",
   "metadata": {},
   "source": [
    "# Final Model - Logistic Regression"
   ]
  },
  {
   "cell_type": "markdown",
   "metadata": {},
   "source": [
    "Our best model seems to be the Logistic Regression model used in the GridSearch. I am going to use this model as the final model as it is performing really well.\n",
    "\n",
    "Let's see how it looks on test data."
   ]
  },
  {
   "cell_type": "code",
   "execution_count": 74,
   "metadata": {},
   "outputs": [],
   "source": [
    "# final model\n",
    "final_model = gs.best_estimator_"
   ]
  },
  {
   "cell_type": "code",
   "execution_count": 75,
   "metadata": {},
   "outputs": [
    {
     "name": "stdout",
     "output_type": "stream",
     "text": [
      "Accuracy score: 0.908\n",
      "F1 score: 0.897\n",
      "Precision score: 0.911\n",
      "Recall score: 0.908\n",
      "Mean train accuracy score: 0.907\n",
      "Mean val accuracy score: 0.896\n",
      "Mean train f1 score: 0.895\n",
      "Mean val f1 score: 0.877\n"
     ]
    },
    {
     "data": {
      "image/png": "[encoded data removed]",
      "text/plain": [
       "<Figure size 432x288 with 2 Axes>"
      ]
     },
     "metadata": {
      "needs_background": "light"
     },
     "output_type": "display_data"
    }
   ],
   "source": [
    "# fit final model on train data\n",
    "final_model.fit(X_train_final, y_train)\n",
    "\n",
    "# print metrics and cross validation\n",
    "print_metrics(final_model, X_train_final, y_train)\n",
    "print_cross_validate(final_model, X_train_final, y_train)"
   ]
  },
  {
   "cell_type": "markdown",
   "metadata": {},
   "source": [
    "### Testing Final Model"
   ]
  },
  {
   "cell_type": "code",
   "execution_count": 76,
   "metadata": {},
   "outputs": [
    {
     "name": "stdout",
     "output_type": "stream",
     "text": [
      "Accuracy score: 0.902\n",
      "F1 score: 0.884\n",
      "Precision score: 0.896\n",
      "Recall score: 0.902\n"
     ]
    },
    {
     "data": {
      "image/png": "[encoded data removed]",
      "text/plain": [
       "<Figure size 432x288 with 2 Axes>"
      ]
     },
     "metadata": {
      "needs_background": "light"
     },
     "output_type": "display_data"
    }
   ],
   "source": [
    "# test final model\n",
    "print_metrics(final_model, X_test_final, y_test)"
   ]
  },
  {
   "cell_type": "markdown",
   "metadata": {},
   "source": [
    "Overall, I am very happy with this model. 90% and 88% accuracy and f1 scores on test data. The confusion matrix is showing that it is predicting the negative class. However, it does mislabel the negative class often and this is probably due to the imbalance of the dataset."
   ]
  }
 ],
 "metadata": {
  "kernelspec": {
   "display_name": "Python (learn-env)",
   "language": "python",
   "name": "learn-env"
  },
  "language_info": {
   "codemirror_mode": {
    "name": "ipython",
    "version": 3
   },
   "file_extension": ".py",
   "mimetype": "text/x-python",
   "name": "python",
   "nbconvert_exporter": "python",
   "pygments_lexer": "ipython3",
   "version": "3.8.5"
  }
 },
 "nbformat": 4,
 "nbformat_minor": 4
}
